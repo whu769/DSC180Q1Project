{
 "cells": [
  {
   "cell_type": "code",
   "execution_count": 5,
   "metadata": {},
   "outputs": [],
   "source": [
    "import pandas as pd\n",
    "import numpy as np\n",
    "import pickle\n",
    "from transformers import AutoTokenizer, TFAutoModel\n",
    "from datasets import Dataset\n",
    "from datasets import load_dataset\n",
    "import torch"
   ]
  },
  {
   "cell_type": "code",
   "execution_count": 6,
   "metadata": {},
   "outputs": [
    {
     "name": "stdout",
     "output_type": "stream",
     "text": [
      "tensor([[0.2216, 0.6157, 0.5521],\n",
      "        [0.0605, 0.6016, 0.1303],\n",
      "        [0.3958, 0.9903, 0.7039],\n",
      "        [0.6942, 0.4163, 0.0293],\n",
      "        [0.2109, 0.4193, 0.0894]])\n"
     ]
    }
   ],
   "source": [
    "# dataset = load_dataset(\"code_search_net\")\n"
   ]
  },
  {
   "cell_type": "code",
   "execution_count": 11,
   "metadata": {},
   "outputs": [
    {
     "name": "stderr",
     "output_type": "stream",
     "text": [
      "Saving the dataset (12/12 shards): 100%|██████████| 1880853/1880853 [00:05<00:00, 313797.01 examples/s]\n",
      "Saving the dataset (1/1 shards): 100%|██████████| 100529/100529 [00:00<00:00, 438990.63 examples/s]\n",
      "Saving the dataset (1/1 shards): 100%|██████████| 89154/89154 [00:00<00:00, 426575.88 examples/s]\n"
     ]
    }
   ],
   "source": [
    "# dataset.save_to_disk(\"./Dataset/CodeSearchCorpus.json\")"
   ]
  },
  {
   "cell_type": "code",
   "execution_count": null,
   "metadata": {},
   "outputs": [],
   "source": []
  }
 ],
 "metadata": {
  "kernelspec": {
   "display_name": "DSC180",
   "language": "python",
   "name": "python3"
  },
  "language_info": {
   "codemirror_mode": {
    "name": "ipython",
    "version": 3
   },
   "file_extension": ".py",
   "mimetype": "text/x-python",
   "name": "python",
   "nbconvert_exporter": "python",
   "pygments_lexer": "ipython3",
   "version": "3.10.0"
  },
  "orig_nbformat": 4
 },
 "nbformat": 4,
 "nbformat_minor": 2
}
