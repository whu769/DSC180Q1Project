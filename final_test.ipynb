{
 "cells": [
  {
   "cell_type": "markdown",
   "metadata": {},
   "source": [
    "### Two Million Dataset Training\n",
    "\n",
    "This jupyter notebook's purpose is to run our most optimal model from the searchmodel (The 75% BM-25/ 25% CodeBert Embeddings Linear Combination) on the entire training set and calculating the subsequent NDCG score of it."
   ]
  },
  {
   "cell_type": "code",
   "execution_count": 1,
   "metadata": {},
   "outputs": [
    {
     "name": "stderr",
     "output_type": "stream",
     "text": [
      "c:\\Users\\halom\\anaconda3\\envs\\test2\\Lib\\site-packages\\tqdm\\auto.py:21: TqdmWarning: IProgress not found. Please update jupyter and ipywidgets. See https://ipywidgets.readthedocs.io/en/stable/user_install.html\n",
      "  from .autonotebook import tqdm as notebook_tqdm\n"
     ]
    }
   ],
   "source": [
    "# Import packages\n",
    "import pandas as pd\n",
    "import numpy as np\n",
    "import pickle\n",
    "from transformers import AutoTokenizer, AutoModel\n",
    "from datasets import Dataset\n",
    "from datasets import load_dataset\n",
    "import datasets\n",
    "import torch\n",
    "from collections import Counter\n",
    "import string\n",
    "from scipy import spatial\n",
    "from sklearn.metrics.pairwise import cosine_similarity\n",
    "import faiss\n",
    "from nltk.stem import PorterStemmer\n",
    "from nltk.tokenize import RegexpTokenizer\n",
    "from nltk.stem import RegexpStemmer\n",
    "from nltk.util import ngrams\n",
    "from nltk.corpus import stopwords\n",
    "import gen_results"
   ]
  },
  {
   "cell_type": "code",
   "execution_count": 2,
   "metadata": {},
   "outputs": [],
   "source": [
    "# Check GPU, initialize models\n",
    "device = (\"cuda\" if torch.cuda.is_available() else \"cpu\")\n",
    "hg_model = \"huggingface/CodeBERTa-small-v1\" #\"sentence-transformers/multi-qa-mpnet-base-dot-v1\"\n",
    "model_ckpt = hg_model #Can/Should test different models\n",
    "tokenizer = AutoTokenizer.from_pretrained(model_ckpt)\n",
    "trained_model = AutoModel.from_pretrained(model_ckpt)\n",
    "trained_model.to(device)\n",
    "\n",
    "#Tokenizer initialization\n",
    "st = RegexpStemmer('ing$|s$|e$|able$', min=4)\n",
    "rgx_tokenizer = RegexpTokenizer(r'\\w+')"
   ]
  },
  {
   "cell_type": "code",
   "execution_count": 3,
   "metadata": {},
   "outputs": [],
   "source": [
    "def cls_pooling(model_output):\n",
    "    \"\"\"\n",
    "    Function that helps in creating the semantic search embeddings\n",
    "    Code was taken from HuggingFace tutorials\n",
    "\n",
    "    Parameters\n",
    "    ----------\n",
    "    model_output : str\n",
    "        The file location of the answers csv file\n",
    "    \"\"\"\n",
    "    return model_output.last_hidden_state[:, 0]\n",
    "\n",
    "def get_embeddings(text_list):\n",
    "    \"\"\"\n",
    "    Function that obtains the semantic search embeddings\n",
    "    given a list of strings comprising of the tokens\n",
    "\n",
    "    Parameters\n",
    "    ----------\n",
    "    text_list : list\n",
    "        The list of string tokens to obtain the embeddings\n",
    "    \"\"\"\n",
    "    encoded_input = tokenizer(\n",
    "        text_list, padding=True, truncation=True, return_tensors=\"pt\"\n",
    "    )\n",
    "    encoded_input = {k: v.to(device) for k, v in encoded_input.items()}\n",
    "    model_output = trained_model(**encoded_input)\n",
    "    return cls_pooling(model_output)\n",
    "\n",
    "def cosine_sim(a, b):\n",
    "    \"\"\"\n",
    "    Class Function that calculates the cosine similarities of two vectors\n",
    "\n",
    "    Parameters\n",
    "    ----------\n",
    "    a : list\n",
    "        The list vectors to be compared \n",
    "    \"\"\"\n",
    "    return np.dot(a, b)/(np.linalg.norm(a)*np.linalg.norm(b))"
   ]
  },
  {
   "cell_type": "code",
   "execution_count": 4,
   "metadata": {},
   "outputs": [],
   "source": [
    "# Load in the CodeSearchNet Dataset\n",
    "dataset_dict = datasets.load_from_disk(\"./Dataset/CodeSearchCorpus/\")\n",
    "train_dataset = dataset_dict[\"train\"]"
   ]
  },
  {
   "cell_type": "code",
   "execution_count": 5,
   "metadata": {},
   "outputs": [],
   "source": [
    "# Take the relevant columns only\n",
    "train_dataset = train_dataset.select_columns([\"func_documentation_string\", \"language\", \"func_code_url\", \"whole_func_string\", \"func_name\"])"
   ]
  },
  {
   "cell_type": "code",
   "execution_count": 7,
   "metadata": {},
   "outputs": [],
   "source": [
    "# Create tsed_DF variable comprising only of the \"function_documentation_string\"\n",
    "tsed_DF = train_dataset.select_columns([\"func_documentation_string\"]).to_pandas()\n",
    "\n",
    "# Initialize English stopwords\n",
    "stop_words = set(stopwords.words('english'))\n",
    "\n",
    "# Clean the \"func_documentation_string\" column and tokenize and stem it\n",
    "tsed_DF[\"func_doc_tokens\"] = tsed_DF[\"func_documentation_string\"].apply(lambda x: rgx_tokenizer.tokenize(x))\n",
    "tsed_DF[\"func_doc_stem_tokens\"] = tsed_DF[\"func_doc_tokens\"].apply(lambda x: [st.stem(word.lower()) for word in x if word not in stop_words])\n",
    "inverted_index = {}\n",
    "\n",
    "#Create bigrams\n",
    "bigram_lst = []\n",
    "for i in range(len(tsed_DF)):\n",
    "    bigram_lst += list(ngrams(tsed_DF.iloc[i][\"func_doc_stem_tokens\"], 2))\n",
    "\n",
    "# Make a bigram counter\n",
    "bigram_counter = Counter(bigram_lst)\n",
    "\n",
    "# Limit the bigrams such they occur more than or equal to 50 times, and less than or equal to 1000\n",
    "bigram_counter = (Counter({k: c for k, c in bigram_counter.items() if c <= 1000 and c >= 50}))\n",
    "\n",
    "# Make a set of the bigrams to add to the inverted index\n",
    "bigram_set = set(list(bigram_counter.keys()))\n",
    "total_len_sum = 0\n",
    "\n",
    "#Go through and populate the inverted index\n",
    "for i in range(len(tsed_DF)):\n",
    "    token_counter = Counter(tsed_DF.iloc[i][\"func_doc_stem_tokens\"])\n",
    "    bigram_counter_i = Counter(list(ngrams(tsed_DF.iloc[i][\"func_doc_stem_tokens\"], 2)))\n",
    "    total_len = sum(token_counter.values()) + sum(bigram_counter_i.values())\n",
    "    total_len_sum += total_len\n",
    "\n",
    "    for token in token_counter:\n",
    "        if token not in inverted_index:\n",
    "            inverted_index[token] = {}\n",
    "        inverted_index[token][i] = (token_counter[token], total_len)\n",
    "    \n",
    "    for bigram in bigram_counter_i:\n",
    "        if bigram in bigram_set:\n",
    "            if bigram not in inverted_index:\n",
    "                inverted_index[bigram] = {}\n",
    "            inverted_index[bigram][i] = (bigram_counter_i[bigram], total_len)\n",
    "\n",
    "bm_avg_DL = total_len_sum / len(tsed_DF)\n",
    "\n",
    "#Pickle afterwards\n",
    "with open(f\"./pickleObjects/two_million_stuff/two_million_inverted_index.pkl\", 'wb') as f:  # open a text file\n",
    "    pickle.dump(inverted_index, f) # serialize the list\n",
    "    f.close()\n",
    "\n",
    "with open(f\"./pickleObjects/two_million_stuff/bigram_set.pkl\", 'wb') as f:  # open a text file\n",
    "    pickle.dump(bigram_set, f) # serialize the list\n",
    "    f.close()\n",
    "\n",
    "with open(f\"./pickleObjects/two_million_stuff/bm_avg_DL.pkl\", 'wb') as f:  # open a text file\n",
    "    pickle.dump(bm_avg_DL, f) # serialize the list\n",
    "    f.close()"
   ]
  },
  {
   "cell_type": "code",
   "execution_count": 8,
   "metadata": {},
   "outputs": [],
   "source": [
    "# # tsed_DF = self.embed_dataset.select_columns([\"func_documentation_string\", \"embeddings\"])\n",
    "# stop_words = set(stopwords.words('english'))\n",
    "# # tsed_DF = self.embed_dataset.to_pandas()\n",
    "# tsed_DF[\"func_doc_tokens\"] = tsed_DF[\"func_documentation_string\"].apply(lambda x: rgx_tokenizer.tokenize(x))\n",
    "# tsed_DF[\"func_doc_stem_tokens\"] = tsed_DF[\"func_doc_tokens\"].apply(lambda x: [st.stem(word) for word in x if word not in stop_words])\n",
    "# inverted_index = {}\n",
    "\n",
    "# bigram_lst = []\n",
    "# for i in range(len(tsed_DF)):\n",
    "#     bigram_lst += list(ngrams(tsed_DF.iloc[i][\"func_doc_stem_tokens\"], 2))\n",
    "\n",
    "# bigram_counter = Counter(bigram_lst)\n",
    "\n",
    "# # COME BACK TO THIS LATER\n",
    "# # bigram_counter = (Counter({k: c for k, c in bigram_counter.items() if c <= 1000 and c >= 50}))\n",
    "\n",
    "# bigram_set = set(list(bigram_counter.keys()))\n",
    "\n",
    "# for i in range(len(tsed_DF)):\n",
    "#     # token_counter = Counter(tsed_DF.iloc[i][\"func_doc_stem_tokens\"])\n",
    "#     bigram_counter_i = Counter(list(ngrams(tsed_DF.iloc[i][\"func_doc_stem_tokens\"], 2)))\n",
    "\n",
    "#     # for token in token_counter:\n",
    "#     #     if token not in inverted_index:\n",
    "#     #         inverted_index[token] = {}\n",
    "#     #     inverted_index[token][i] = token_counter[token]\n",
    "    \n",
    "#     for bigram in bigram_counter_i:\n",
    "#         if bigram in bigram_set:\n",
    "#             if bigram not in inverted_index:\n",
    "#                 inverted_index[bigram] = {}\n",
    "#             inverted_index[bigram][i] = bigram_counter_i[bigram]\n",
    "\n",
    "# #Pickle afterwards\n",
    "# with open(f\"./pickleObjects/two_million_inverted_index.pkl\", 'wb') as f:  # open a text file\n",
    "#     pickle.dump(inverted_index, f) # serialize the list\n",
    "#     f.close()\n"
   ]
  },
  {
   "cell_type": "code",
   "execution_count": 9,
   "metadata": {},
   "outputs": [
    {
     "data": {
      "text/plain": [
       "78594"
      ]
     },
     "execution_count": 9,
     "metadata": {},
     "output_type": "execute_result"
    }
   ],
   "source": [
    "len(bigram_set)"
   ]
  },
  {
   "cell_type": "code",
   "execution_count": 10,
   "metadata": {},
   "outputs": [
    {
     "data": {
      "text/plain": [
       "1017881"
      ]
     },
     "execution_count": 10,
     "metadata": {},
     "output_type": "execute_result"
    }
   ],
   "source": [
    "len(inverted_index)"
   ]
  },
  {
   "cell_type": "code",
   "execution_count": 11,
   "metadata": {},
   "outputs": [
    {
     "data": {
      "text/plain": [
       "'func NewClientConnection(conn net.Conn) (httpstream.Connection, error) {\\n\\tspdyConn, err := spdystream.NewConnection(conn, false)\\n\\tif err != nil {\\n\\t\\tdefer conn.Close()\\n\\t\\treturn nil, err\\n\\t}\\n\\n\\treturn newConnection(spdyConn, httpstream.NoOpNewStreamHandler), nil\\n}'"
      ]
     },
     "execution_count": 11,
     "metadata": {},
     "output_type": "execute_result"
    }
   ],
   "source": [
    "train_dataset[1000000][\"whole_func_string\"]\n",
    "# len(get_embeddings([train_dataset[1000000][\"whole_func_string\"]]).cpu().detach().numpy()[0])"
   ]
  },
  {
   "cell_type": "code",
   "execution_count": 12,
   "metadata": {},
   "outputs": [],
   "source": [
    "def query_results_lc_naive_custom(query_string, k = 10, tf_alpha = 0.5, bigrams = True, kw_method = \"TFIDF\", bm_k = 1.2, bm_b = 0.75): \n",
    "    # lc = Linear-combination, Implicitly weighted towards Keyword Matching Method\n",
    "    # kw_method can either be \"TFIDF\" OR \"BM25\"\n",
    "    stop_words = set(stopwords.words('english'))\n",
    "    query_tokens = [st.stem(word.lower()) for word in tokenizer.tokenize(query_string) if word not in stop_words]\n",
    "    query_embedding = get_embeddings([query_string]).cpu().detach().numpy()\n",
    "\n",
    "    # rel_indices = []\n",
    "    answer_dict = {}\n",
    "\n",
    "    for token in query_tokens:\n",
    "        if token in inverted_index:\n",
    "            rel_indices = list(set(inverted_index[token].keys()))\n",
    "\n",
    "            for rel_i in rel_indices:\n",
    "                if rel_i not in answer_dict:\n",
    "                    query_embedding_2 = get_embeddings([train_dataset[rel_i][\"whole_func_string\"]]).cpu().detach().numpy()\n",
    "                    answer_dict[rel_i] = [0,cosine_sim(query_embedding[0], query_embedding_2[0])]\n",
    "                tf = inverted_index[token][rel_i][0] / inverted_index[token][rel_i][1]\n",
    "                df = len(inverted_index[token])\n",
    "                idf = np.log((len(tsed_DF) + 1) / (df + 1))\n",
    "                if kw_method == \"TFIDF\":\n",
    "                    answer_dict[rel_i][0] += tf * idf\n",
    "                else: #kw_method == \"BM25\"\n",
    "                    bm_comp = (tf * (bm_k + 1)) / (tf + bm_k * (1 - bm_b + bm_b * (inverted_index[token][rel_i][1] / bm_avg_DL)))\n",
    "                    answer_dict[rel_i][0] += bm_comp * idf\n",
    "\n",
    "    if bigrams:\n",
    "        bigram_lst = list(ngrams(query_tokens, 2))\n",
    "        for bigram in bigram_lst:\n",
    "            if bigram in inverted_index:\n",
    "                # print(\"HELLOOOOOOOOOOO\", bigram, self.inverted_index[bigram])\n",
    "                rel_indices = list(set(inverted_index[bigram].keys()))\n",
    "                for rel_i in rel_indices:\n",
    "                    if rel_i not in answer_dict:\n",
    "                        query_embedding_2 = get_embeddings([train_dataset[rel_i][\"whole_func_string\"]]).cpu().detach().numpy()\n",
    "                        answer_dict[rel_i] = [0,cosine_sim(query_embedding[0], query_embedding_2[0])]\n",
    "                    tf = inverted_index[bigram][rel_i][0] / inverted_index[bigram][rel_i][1]\n",
    "                    df = len(inverted_index[bigram])\n",
    "                    idf = np.log((len(tsed_DF) + 1) / (df + 1))\n",
    "                    \n",
    "                    if kw_method == \"TFIDF\":\n",
    "                        answer_dict[rel_i][0] += 2 * tf * idf\n",
    "                    else:\n",
    "                        bm_comp = (tf * (bm_k + 1)) / (tf + bm_k * (1 - bm_b + bm_b * (inverted_index[bigram][rel_i][1] / bm_avg_DL)))\n",
    "                        answer_dict[rel_i][0] += 2 * bm_comp * idf\n",
    "\n",
    "    result_lst = [[a,b] for (a,b) in answer_dict.items()]\n",
    "    result_lst.sort(reverse=True, key = lambda x: x[1][0] * tf_alpha + x[1][1] * (1-tf_alpha))\n",
    "    # print(result_lst[:k])\n",
    "    return result_lst[:k]"
   ]
  },
  {
   "cell_type": "code",
   "execution_count": 14,
   "metadata": {},
   "outputs": [
    {
     "data": {
      "text/plain": [
       "[[1211129, [8.931484737955529, 0.54891187]],\n",
       " [1728944, [8.931484737955529, 0.5126007]],\n",
       " [867141, [8.931484737955529, 0.51162255]],\n",
       " [945738, [8.931484737955529, 0.5073689]],\n",
       " [1211177, [8.931484737955529, 0.48609197]],\n",
       " [1809328, [8.931484737955529, 0.485703]],\n",
       " [1016155, [5.840628369581127, 0.5936406]],\n",
       " [597366, [5.634110615792211, 0.60566]],\n",
       " [858327, [5.634110615792211, 0.5800108]],\n",
       " [1212018, [5.634110615792211, 0.57697135]],\n",
       " [960603, [5.634110615792211, 0.5758395]],\n",
       " [858328, [5.634110615792211, 0.57104975]],\n",
       " [1149965, [5.634110615792211, 0.5698875]],\n",
       " [981477, [5.634110615792211, 0.5533684]],\n",
       " [922048, [5.634110615792211, 0.5509892]],\n",
       " [224944, [5.634110615792211, 0.5460969]],\n",
       " [161115, [5.634110615792211, 0.54244876]],\n",
       " [1763605, [5.634110615792211, 0.5414289]],\n",
       " [1236552, [5.634110615792211, 0.5389931]],\n",
       " [1249745, [5.634110615792211, 0.5372677]],\n",
       " [457524, [5.634110615792211, 0.5368853]],\n",
       " [614628, [5.634110615792211, 0.53485835]],\n",
       " [1277951, [5.634110615792211, 0.53437155]],\n",
       " [534393, [5.634110615792211, 0.53287894]],\n",
       " [911171, [5.634110615792211, 0.5309949]],\n",
       " [1655642, [5.634110615792211, 0.5289334]],\n",
       " [1249744, [5.634110615792211, 0.52855206]],\n",
       " [549365, [5.634110615792211, 0.52626187]],\n",
       " [1606944, [5.634110615792211, 0.5240409]],\n",
       " [930294, [5.634110615792211, 0.5227999]],\n",
       " [243329, [5.634110615792211, 0.5227711]],\n",
       " [1149792, [5.634110615792211, 0.52246404]],\n",
       " [1384148, [5.634110615792211, 0.5212631]],\n",
       " [1504090, [5.634110615792211, 0.5208384]],\n",
       " [1210774, [5.634110615792211, 0.51837623]],\n",
       " [1565595, [5.634110615792211, 0.51781523]],\n",
       " [925422, [5.634110615792211, 0.5176257]],\n",
       " [547302, [5.634110615792211, 0.5160063]],\n",
       " [243327, [5.634110615792211, 0.5159185]],\n",
       " [1149793, [5.634110615792211, 0.514482]],\n",
       " [1532259, [5.634110615792211, 0.5101778]],\n",
       " [1378746, [5.634110615792211, 0.506405]],\n",
       " [580352, [5.634110615792211, 0.50413334]],\n",
       " [129450, [5.634110615792211, 0.50307477]],\n",
       " [547432, [5.634110615792211, 0.49942482]],\n",
       " [363080, [5.634110615792211, 0.4968967]],\n",
       " [546926, [5.634110615792211, 0.49462548]],\n",
       " [922049, [5.634110615792211, 0.49450958]],\n",
       " [243328, [5.634110615792211, 0.4940769]],\n",
       " [547107, [5.634110615792211, 0.4893728]]]"
      ]
     },
     "execution_count": 14,
     "metadata": {},
     "output_type": "execute_result"
    }
   ],
   "source": [
    "query_results_lc_naive_custom(\"sort string list\", k = 50, tf_alpha= 0.75, bigrams=True, kw_method=\"BM25\")"
   ]
  },
  {
   "cell_type": "code",
   "execution_count": 13,
   "metadata": {},
   "outputs": [],
   "source": [
    "def create_results(query_filepath, results_per_query = 100):\n",
    "    queries = pd.read_csv(query_filepath)\n",
    "    q_lst = queries[\"query\"].to_list()\n",
    "\n",
    "    lang_lst = []\n",
    "    func_code_url_lst = []\n",
    "    query_lst = []\n",
    "    func_docs_lst = []\n",
    "\n",
    "    for i, query in enumerate(q_lst):\n",
    "        # print(i)\n",
    "        fbm_lst = query_results_lc_naive_custom(query, results_per_query, kw_method=\"BM25\", tf_alpha=0.75,bigrams=True) #CHANGE THIS LINE TO CHECK DIFFERENT METHODS. FALSE = NO BIGRAMS\n",
    "        query_lst += [query for j in range(len(fbm_lst))]\n",
    "        \n",
    "        for lst in fbm_lst:\n",
    "            # print(lst)\n",
    "            lang_lst.append(train_dataset[lst[0]][\"language\"])\n",
    "            func_code_url_lst.append(train_dataset[lst[0]][\"func_code_url\"])\n",
    "            func_docs_lst.append(train_dataset[lst[0]]['func_documentation_string'])\n",
    "            # func_names_lst.append(self.tsed_DF.iloc[lst[0]]['func_name'])\n",
    "\n",
    "\n",
    "    prediction_df = pd.DataFrame({'language' : lang_lst, 'url': func_code_url_lst, \"query\" : query_lst, \"documentation\" : func_docs_lst})\n",
    "    return prediction_df"
   ]
  },
  {
   "cell_type": "code",
   "execution_count": null,
   "metadata": {},
   "outputs": [],
   "source": [
    "res_df = create_results(\"./Dataset/Testing/queries.csv\", results_per_query=50)"
   ]
  },
  {
   "cell_type": "code",
   "execution_count": null,
   "metadata": {},
   "outputs": [],
   "source": [
    "res_df.to_csv(f\"./csv_output/baseline_2MILLION.csv\")"
   ]
  },
  {
   "cell_type": "code",
   "execution_count": null,
   "metadata": {},
   "outputs": [],
   "source": [
    "gen_results.create_lj_answers_NEW(f\"./csv_output/baseline_2MILLION.csv\", \"./Dataset/Testing/annotationStore_UNIQUE.csv\")"
   ]
  },
  {
   "cell_type": "code",
   "execution_count": null,
   "metadata": {},
   "outputs": [],
   "source": []
  },
  {
   "cell_type": "code",
   "execution_count": null,
   "metadata": {},
   "outputs": [],
   "source": []
  }
 ],
 "metadata": {
  "kernelspec": {
   "display_name": "test2",
   "language": "python",
   "name": "python3"
  },
  "language_info": {
   "codemirror_mode": {
    "name": "ipython",
    "version": 3
   },
   "file_extension": ".py",
   "mimetype": "text/x-python",
   "name": "python",
   "nbconvert_exporter": "python",
   "pygments_lexer": "ipython3",
   "version": "3.11.5"
  }
 },
 "nbformat": 4,
 "nbformat_minor": 2
}
