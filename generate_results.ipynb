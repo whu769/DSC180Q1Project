{
 "cells": [
  {
   "cell_type": "code",
   "execution_count": 3,
   "metadata": {},
   "outputs": [],
   "source": [
    "import pandas as pd\n",
    "import numpy as np\n",
    "import relevanceeval"
   ]
  },
  {
   "cell_type": "markdown",
   "metadata": {},
   "source": [
    "# Goal\n",
    "This jupyter notebook serves as an area to test how to automatically test the results of our trained model to the expert annotations. It serves as a testing ground. "
   ]
  },
  {
   "cell_type": "code",
   "execution_count": 4,
   "metadata": {},
   "outputs": [
    {
     "data": {
      "text/html": [
       "<div>\n",
       "<style scoped>\n",
       "    .dataframe tbody tr th:only-of-type {\n",
       "        vertical-align: middle;\n",
       "    }\n",
       "\n",
       "    .dataframe tbody tr th {\n",
       "        vertical-align: top;\n",
       "    }\n",
       "\n",
       "    .dataframe thead th {\n",
       "        text-align: right;\n",
       "    }\n",
       "</style>\n",
       "<table border=\"1\" class=\"dataframe\">\n",
       "  <thead>\n",
       "    <tr style=\"text-align: right;\">\n",
       "      <th></th>\n",
       "      <th>query</th>\n",
       "    </tr>\n",
       "  </thead>\n",
       "  <tbody>\n",
       "    <tr>\n",
       "      <th>0</th>\n",
       "      <td>convert int to string</td>\n",
       "    </tr>\n",
       "    <tr>\n",
       "      <th>1</th>\n",
       "      <td>priority queue</td>\n",
       "    </tr>\n",
       "    <tr>\n",
       "      <th>2</th>\n",
       "      <td>string to date</td>\n",
       "    </tr>\n",
       "    <tr>\n",
       "      <th>3</th>\n",
       "      <td>sort string list</td>\n",
       "    </tr>\n",
       "    <tr>\n",
       "      <th>4</th>\n",
       "      <td>save list to file</td>\n",
       "    </tr>\n",
       "    <tr>\n",
       "      <th>...</th>\n",
       "      <td>...</td>\n",
       "    </tr>\n",
       "    <tr>\n",
       "      <th>94</th>\n",
       "      <td>concatenate several file remove header lines</td>\n",
       "    </tr>\n",
       "    <tr>\n",
       "      <th>95</th>\n",
       "      <td>parse query string in url</td>\n",
       "    </tr>\n",
       "    <tr>\n",
       "      <th>96</th>\n",
       "      <td>fuzzy match ranking</td>\n",
       "    </tr>\n",
       "    <tr>\n",
       "      <th>97</th>\n",
       "      <td>output to html file</td>\n",
       "    </tr>\n",
       "    <tr>\n",
       "      <th>98</th>\n",
       "      <td>how to read .csv file in an efficient way?</td>\n",
       "    </tr>\n",
       "  </tbody>\n",
       "</table>\n",
       "<p>99 rows × 1 columns</p>\n",
       "</div>"
      ],
      "text/plain": [
       "                                           query\n",
       "0                          convert int to string\n",
       "1                                 priority queue\n",
       "2                                 string to date\n",
       "3                               sort string list\n",
       "4                              save list to file\n",
       "..                                           ...\n",
       "94  concatenate several file remove header lines\n",
       "95                     parse query string in url\n",
       "96                           fuzzy match ranking\n",
       "97                           output to html file\n",
       "98    how to read .csv file in an efficient way?\n",
       "\n",
       "[99 rows x 1 columns]"
      ]
     },
     "execution_count": 4,
     "metadata": {},
     "output_type": "execute_result"
    }
   ],
   "source": [
    "# Loading in the queries csv file.\n",
    "queries = pd.read_csv(\"./Dataset/Testing/queries.csv\")\n",
    "queries"
   ]
  },
  {
   "cell_type": "code",
   "execution_count": 5,
   "metadata": {},
   "outputs": [
    {
     "data": {
      "text/html": [
       "<div>\n",
       "<style scoped>\n",
       "    .dataframe tbody tr th:only-of-type {\n",
       "        vertical-align: middle;\n",
       "    }\n",
       "\n",
       "    .dataframe tbody tr th {\n",
       "        vertical-align: top;\n",
       "    }\n",
       "\n",
       "    .dataframe thead th {\n",
       "        text-align: right;\n",
       "    }\n",
       "</style>\n",
       "<table border=\"1\" class=\"dataframe\">\n",
       "  <thead>\n",
       "    <tr style=\"text-align: right;\">\n",
       "      <th></th>\n",
       "      <th>Language</th>\n",
       "      <th>Query</th>\n",
       "      <th>GitHubUrl</th>\n",
       "      <th>Relevance</th>\n",
       "      <th>Notes</th>\n",
       "    </tr>\n",
       "  </thead>\n",
       "  <tbody>\n",
       "    <tr>\n",
       "      <th>0</th>\n",
       "      <td>Go</td>\n",
       "      <td>unique elements</td>\n",
       "      <td>https://github.com/tylertreat/BoomFilters/blob...</td>\n",
       "      <td>0</td>\n",
       "      <td>NaN</td>\n",
       "    </tr>\n",
       "    <tr>\n",
       "      <th>1</th>\n",
       "      <td>Go</td>\n",
       "      <td>read properties file</td>\n",
       "      <td>https://github.com/gobs/httpclient/blob/a93d46...</td>\n",
       "      <td>0</td>\n",
       "      <td>NaN</td>\n",
       "    </tr>\n",
       "    <tr>\n",
       "      <th>2</th>\n",
       "      <td>Go</td>\n",
       "      <td>heatmap from 3d coordinates</td>\n",
       "      <td>https://github.com/twpayne/go-geom/blob/e21b3a...</td>\n",
       "      <td>1</td>\n",
       "      <td>NaN</td>\n",
       "    </tr>\n",
       "    <tr>\n",
       "      <th>3</th>\n",
       "      <td>Go</td>\n",
       "      <td>create cookie</td>\n",
       "      <td>https://github.com/volatiletech/abcweb/blob/9e...</td>\n",
       "      <td>2</td>\n",
       "      <td>NaN</td>\n",
       "    </tr>\n",
       "    <tr>\n",
       "      <th>4</th>\n",
       "      <td>Go</td>\n",
       "      <td>readonly array</td>\n",
       "      <td>https://github.com/ericchiang/k8s/blob/68fb216...</td>\n",
       "      <td>0</td>\n",
       "      <td>NaN</td>\n",
       "    </tr>\n",
       "    <tr>\n",
       "      <th>...</th>\n",
       "      <td>...</td>\n",
       "      <td>...</td>\n",
       "      <td>...</td>\n",
       "      <td>...</td>\n",
       "      <td>...</td>\n",
       "    </tr>\n",
       "    <tr>\n",
       "      <th>4001</th>\n",
       "      <td>Ruby</td>\n",
       "      <td>write csv</td>\n",
       "      <td>https://github.com/khiemns54/sp2db/blob/76c78d...</td>\n",
       "      <td>3</td>\n",
       "      <td>NaN</td>\n",
       "    </tr>\n",
       "    <tr>\n",
       "      <th>4002</th>\n",
       "      <td>Ruby</td>\n",
       "      <td>replace in file</td>\n",
       "      <td>https://github.com/gosu/ashton/blob/313673d8b1...</td>\n",
       "      <td>1</td>\n",
       "      <td>NaN</td>\n",
       "    </tr>\n",
       "    <tr>\n",
       "      <th>4003</th>\n",
       "      <td>Ruby</td>\n",
       "      <td>how to read the contents of a .gz compressed f...</td>\n",
       "      <td>https://github.com/lostisland/faraday_middlewa...</td>\n",
       "      <td>2</td>\n",
       "      <td>NaN</td>\n",
       "    </tr>\n",
       "    <tr>\n",
       "      <th>4004</th>\n",
       "      <td>Ruby</td>\n",
       "      <td>converting uint8 array to image</td>\n",
       "      <td>https://github.com/wvanbergen/chunky_png/blob/...</td>\n",
       "      <td>0</td>\n",
       "      <td>NaN</td>\n",
       "    </tr>\n",
       "    <tr>\n",
       "      <th>4005</th>\n",
       "      <td>Ruby</td>\n",
       "      <td>initializing array</td>\n",
       "      <td>https://github.com/conanite/aduki/blob/2e17522...</td>\n",
       "      <td>0</td>\n",
       "      <td>NaN</td>\n",
       "    </tr>\n",
       "  </tbody>\n",
       "</table>\n",
       "<p>4006 rows × 5 columns</p>\n",
       "</div>"
      ],
      "text/plain": [
       "     Language                                              Query  \\\n",
       "0          Go                                    unique elements   \n",
       "1          Go                               read properties file   \n",
       "2          Go                        heatmap from 3d coordinates   \n",
       "3          Go                                      create cookie   \n",
       "4          Go                                     readonly array   \n",
       "...       ...                                                ...   \n",
       "4001     Ruby                                          write csv   \n",
       "4002     Ruby                                    replace in file   \n",
       "4003     Ruby  how to read the contents of a .gz compressed f...   \n",
       "4004     Ruby                    converting uint8 array to image   \n",
       "4005     Ruby                                 initializing array   \n",
       "\n",
       "                                              GitHubUrl  Relevance Notes  \n",
       "0     https://github.com/tylertreat/BoomFilters/blob...          0   NaN  \n",
       "1     https://github.com/gobs/httpclient/blob/a93d46...          0   NaN  \n",
       "2     https://github.com/twpayne/go-geom/blob/e21b3a...          1   NaN  \n",
       "3     https://github.com/volatiletech/abcweb/blob/9e...          2   NaN  \n",
       "4     https://github.com/ericchiang/k8s/blob/68fb216...          0   NaN  \n",
       "...                                                 ...        ...   ...  \n",
       "4001  https://github.com/khiemns54/sp2db/blob/76c78d...          3   NaN  \n",
       "4002  https://github.com/gosu/ashton/blob/313673d8b1...          1   NaN  \n",
       "4003  https://github.com/lostisland/faraday_middlewa...          2   NaN  \n",
       "4004  https://github.com/wvanbergen/chunky_png/blob/...          0   NaN  \n",
       "4005  https://github.com/conanite/aduki/blob/2e17522...          0   NaN  \n",
       "\n",
       "[4006 rows x 5 columns]"
      ]
     },
     "execution_count": 5,
     "metadata": {},
     "output_type": "execute_result"
    }
   ],
   "source": [
    "# Load in the annotationStore csv file.\n",
    "results = pd.read_csv(\"./Dataset/Testing/annotationStore.csv\")\n",
    "results"
   ]
  },
  {
   "cell_type": "code",
   "execution_count": 6,
   "metadata": {},
   "outputs": [
    {
     "name": "stderr",
     "output_type": "stream",
     "text": [
      "c:\\Users\\halom\\Desktop\\DSC180\\Q1Project\\DSC180Q1Project\\relevanceeval.py:37: FutureWarning: The provided callable <function mean at 0x0000025A0C700540> is currently using DataFrameGroupBy.mean. In a future version of pandas, the provided callable will be used directly. To keep current behavior pass the string \"mean\" instead.\n",
      "  per_query_language = relevance_annotations.pivot_table(\n"
     ]
    }
   ],
   "source": [
    "# Utilizing the relevanceeval.py\n",
    "relevance_scores = relevanceeval.load_relevances(\"./Dataset/Testing/annotationStore.csv\")"
   ]
  },
  {
   "cell_type": "code",
   "execution_count": 7,
   "metadata": {},
   "outputs": [],
   "source": [
    "# Loading in a prediction file generated by me.\n",
    "predictions = relevanceeval.load_predictions(\"./csv_output/baseline_20k.csv\")"
   ]
  },
  {
   "cell_type": "code",
   "execution_count": 8,
   "metadata": {},
   "outputs": [
    {
     "data": {
      "text/plain": [
       "['go', 'java', 'javascript', 'php', 'python', 'ruby']"
      ]
     },
     "execution_count": 8,
     "metadata": {},
     "output_type": "execute_result"
    }
   ],
   "source": [
    "# seing the languages\n",
    "languages_predicted = sorted(set(predictions.keys()))\n",
    "languages_predicted"
   ]
  },
  {
   "cell_type": "code",
   "execution_count": 9,
   "metadata": {},
   "outputs": [
    {
     "name": "stdout",
     "output_type": "stream",
     "text": [
      "% of URLs in predictions that exist in the annotation dataset:\n",
      "\tgo: 0.00%\n",
      "\tjava: 0.25%\n",
      "\tjavascript: 0.00%\n",
      "\tphp: 0.32%\n",
      "\tpython: 0.20%\n",
      "\truby: 0.64%\n",
      "% of URLs in predictions that exist in the annotation dataset (avg relevance > 0):\n",
      "\tgo: 0.00%\n",
      "\tjava: 0.23%\n",
      "\tjavascript: 0.00%\n",
      "\tphp: 0.47%\n",
      "\tpython: 0.23%\n",
      "\truby: 0.00%\n",
      "NDCG:\n",
      "\tgo: 0.000\n",
      "\tjava: 0.006\n",
      "\tjavascript: 0.000\n",
      "\tphp: 0.001\n",
      "\tpython: 0.005\n",
      "\truby: 0.000\n"
     ]
    }
   ],
   "source": [
    "print('% of URLs in predictions that exist in the annotation dataset:')\n",
    "for language in languages_predicted:\n",
    "    print(f'\\t{language}: {relevanceeval.coverage_per_language(predictions[language], relevance_scores[language])*100:.2f}%')\n",
    "\n",
    "print('% of URLs in predictions that exist in the annotation dataset (avg relevance > 0):')\n",
    "for language in languages_predicted:\n",
    "    print(f'\\t{language}: {relevanceeval.coverage_per_language(predictions[language], relevance_scores[language], with_positive_relevance=True) * 100:.2f}%')\n",
    "\n",
    "print('NDCG:')\n",
    "for language in languages_predicted:\n",
    "    print(f'\\t{language}: {relevanceeval.ndcg(predictions[language], relevance_scores[language]):.3f}')"
   ]
  },
  {
   "cell_type": "code",
   "execution_count": null,
   "metadata": {},
   "outputs": [],
   "source": []
  },
  {
   "cell_type": "code",
   "execution_count": null,
   "metadata": {},
   "outputs": [],
   "source": []
  }
 ],
 "metadata": {
  "kernelspec": {
   "display_name": "test",
   "language": "python",
   "name": "python3"
  },
  "language_info": {
   "codemirror_mode": {
    "name": "ipython",
    "version": 3
   },
   "file_extension": ".py",
   "mimetype": "text/x-python",
   "name": "python",
   "nbconvert_exporter": "python",
   "pygments_lexer": "ipython3",
   "version": "3.11.5"
  }
 },
 "nbformat": 4,
 "nbformat_minor": 2
}
