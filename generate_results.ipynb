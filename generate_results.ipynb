{
 "cells": [
  {
   "cell_type": "code",
   "execution_count": null,
   "metadata": {},
   "outputs": [],
   "source": [
    "import pandas as pd\n",
    "import numpy as np\n",
    "import relevanceeval"
   ]
  },
  {
   "cell_type": "code",
   "execution_count": null,
   "metadata": {},
   "outputs": [],
   "source": [
    "queries = pd.read_csv(\"./Dataset/Testing/queries.csv\")\n",
    "queries"
   ]
  },
  {
   "cell_type": "code",
   "execution_count": null,
   "metadata": {},
   "outputs": [],
   "source": [
    "results = pd.read_csv(\"./Dataset/Testing/annotationStore.csv\")\n",
    "results"
   ]
  },
  {
   "cell_type": "code",
   "execution_count": null,
   "metadata": {},
   "outputs": [],
   "source": [
    "# results.groupby(by = [\"Language\", \"Query\"])\n",
    "\n",
    "# for gb in results.groupby(by = [\"Language\", \"Query\"]):\n",
    "#     display(gb[0])\n",
    "#     display(gb[1].shape)\n",
    "#     display(gb[1])\n",
    "#     print(\"--------------\")"
   ]
  },
  {
   "cell_type": "code",
   "execution_count": null,
   "metadata": {},
   "outputs": [],
   "source": [
    "relevance_scores = relevanceeval.load_relevances(\"./Dataset/Testing/annotationStore.csv\")"
   ]
  },
  {
   "cell_type": "code",
   "execution_count": null,
   "metadata": {},
   "outputs": [],
   "source": [
    "predictions = relevanceeval.load_predictions(\"./csv_output/baseline_20k.csv\")"
   ]
  },
  {
   "cell_type": "code",
   "execution_count": null,
   "metadata": {},
   "outputs": [],
   "source": [
    "languages_predicted = sorted(set(predictions.keys()))"
   ]
  },
  {
   "cell_type": "code",
   "execution_count": null,
   "metadata": {},
   "outputs": [],
   "source": [
    "languages_predicted"
   ]
  },
  {
   "cell_type": "code",
   "execution_count": null,
   "metadata": {},
   "outputs": [],
   "source": [
    "print('% of URLs in predictions that exist in the annotation dataset:')\n",
    "for language in languages_predicted:\n",
    "    print(f'\\t{language}: {relevanceeval.coverage_per_language(predictions[language], relevance_scores[language])*100:.2f}%')\n",
    "\n",
    "print('% of URLs in predictions that exist in the annotation dataset (avg relevance > 0):')\n",
    "for language in languages_predicted:\n",
    "    print(f'\\t{language}: {relevanceeval.coverage_per_language(predictions[language], relevance_scores[language], with_positive_relevance=True) * 100:.2f}%')\n",
    "\n",
    "print('NDCG:')\n",
    "for language in languages_predicted:\n",
    "    print(f'\\t{language}: {relevanceeval.ndcg(predictions[language], relevance_scores[language]):.3f}')\n",
    "\n",
    "print('NDCG (full ranking):')\n",
    "for language in languages_predicted:\n",
    "    print(f'\\t{language}: {relevanceeval.ndcg(predictions[language], relevance_scores[language], ignore_rank_of_non_annotated_urls=False):.3f}')"
   ]
  },
  {
   "cell_type": "code",
   "execution_count": null,
   "metadata": {},
   "outputs": [],
   "source": [
    "predictions"
   ]
  },
  {
   "cell_type": "code",
   "execution_count": null,
   "metadata": {},
   "outputs": [],
   "source": []
  }
 ],
 "metadata": {
  "kernelspec": {
   "display_name": "test",
   "language": "python",
   "name": "python3"
  },
  "language_info": {
   "codemirror_mode": {
    "name": "ipython",
    "version": 3
   },
   "file_extension": ".py",
   "mimetype": "text/x-python",
   "name": "python",
   "nbconvert_exporter": "python",
   "pygments_lexer": "ipython3",
   "version": "3.11.5"
  }
 },
 "nbformat": 4,
 "nbformat_minor": 2
}
